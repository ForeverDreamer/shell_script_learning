{
 "cells": [
  {
   "cell_type": "code",
   "execution_count": 1,
   "metadata": {},
   "outputs": [
    {
     "name": "stdout",
     "output_type": "stream",
     "text": [
      "wonderland: JPEG image data, JFIF standard 1.01\n"
     ]
    }
   ],
   "source": [
    "# !less alice\n",
    "# !cat alice\n",
    "# Mac OS使用默认编辑器打开文件, 各种Linux版本打开方式不同\n",
    "# !open wonderland\n",
    "!file wonderland"
   ]
  },
  {
   "cell_type": "code",
   "execution_count": 2,
   "metadata": {},
   "outputs": [
    {
     "name": "stdout",
     "output_type": "stream",
     "text": [
      "3_Basic_File_Management.ipynb: UTF-8 Unicode text\n",
      "alice:                         UTF-8 Unicode (with BOM) text, with CRLF line terminators\n",
      "dracula:                       UTF-8 Unicode (with BOM) text, with CRLF line terminators\n",
      "holmes:                        JPEG image data, JFIF standard 1.01\n",
      "sherlock:                      UTF-8 Unicode (with BOM) text, with CRLF line terminators\n",
      "wonderland:                    JPEG image data, JFIF standard 1.01\n"
     ]
    }
   ],
   "source": [
    "!file *"
   ]
  },
  {
   "cell_type": "code",
   "execution_count": 3,
   "metadata": {},
   "outputs": [],
   "source": [
    "!rm dracula"
   ]
  },
  {
   "cell_type": "code",
   "execution_count": 4,
   "metadata": {},
   "outputs": [
    {
     "name": "stdout",
     "output_type": "stream",
     "text": [
      "3_Basic_File_Management.ipynb  alice  holmes  sherlock\twonderland\n"
     ]
    }
   ],
   "source": [
    "!ls"
   ]
  },
  {
   "cell_type": "code",
   "execution_count": 5,
   "metadata": {},
   "outputs": [
    {
     "name": "stdout",
     "output_type": "stream",
     "text": [
      "3_Basic_File_Management.ipynb  holmes.jpg    wonderland.jpg\n",
      "alice.txt\t\t       sherlock.txt\n"
     ]
    }
   ],
   "source": [
    "!mv alice alice.txt\n",
    "!mv holmes holmes.jpg\n",
    "!mv sherlock sherlock.txt\n",
    "!mv wonderland wonderland.jpg\n",
    "!ls"
   ]
  },
  {
   "cell_type": "code",
   "execution_count": 6,
   "metadata": {},
   "outputs": [
    {
     "name": "stdout",
     "output_type": "stream",
     "text": [
      "total 716\n",
      "-rw-rw-r--. 1 hadoop hadoop   7762 Apr 23 13:16 3_Basic_File_Management.ipynb\n",
      "drwxrwxr-x. 2 hadoop hadoop      6 Apr 24 07:48 alice\n",
      "-rw-rw-r--. 1 hadoop hadoop  74703 Apr 24 07:41 alice.txt\n",
      "-rw-rw-r--. 1 hadoop hadoop  27588 Apr 24 07:41 holmes.jpg\n",
      "drwxrwxr-x. 2 hadoop hadoop      6 Apr 24 07:48 sherlock\n",
      "-rw-rw-r--. 1 hadoop hadoop 594933 Apr 24 07:41 sherlock.txt\n",
      "-rw-rw-r--. 1 hadoop hadoop  20083 Apr 24 07:41 wonderland.jpg\n"
     ]
    }
   ],
   "source": [
    "!mkdir alice sherlock\n",
    "!ls -l"
   ]
  },
  {
   "cell_type": "code",
   "execution_count": 7,
   "metadata": {},
   "outputs": [
    {
     "name": "stdout",
     "output_type": "stream",
     "text": [
      "total 620\n",
      "-rw-rw-r--. 1 hadoop hadoop   7805 Apr 24 07:48 3_Basic_File_Management.ipynb\n",
      "drwxrwxr-x. 2 hadoop hadoop     45 Apr 24 07:48 alice\n",
      "-rw-rw-r--. 1 hadoop hadoop  27588 Apr 24 07:41 holmes.jpg\n",
      "drwxrwxr-x. 2 hadoop hadoop      6 Apr 24 07:48 sherlock\n",
      "-rw-rw-r--. 1 hadoop hadoop 594933 Apr 24 07:41 sherlock.txt\n"
     ]
    }
   ],
   "source": [
    "!mv alice.txt wonderland.jpg alice\n",
    "!ls -l"
   ]
  },
  {
   "cell_type": "code",
   "execution_count": 8,
   "metadata": {},
   "outputs": [
    {
     "name": "stdout",
     "output_type": "stream",
     "text": [
      "total 8\n",
      "-rw-rw-r--. 1 hadoop hadoop 7805 Apr 24 07:48 3_Basic_File_Management.ipynb\n",
      "drwxrwxr-x. 2 hadoop hadoop   45 Apr 24 07:48 alice\n",
      "drwxrwxr-x. 2 hadoop hadoop   44 Apr 24 07:48 sherlock\n"
     ]
    }
   ],
   "source": [
    "!mv sherlock.txt holmes.jpg sherlock\n",
    "!ls -l"
   ]
  },
  {
   "cell_type": "code",
   "execution_count": 9,
   "metadata": {},
   "outputs": [
    {
     "name": "stdout",
     "output_type": "stream",
     "text": [
      "alice.txt  wonderland.jpg\n"
     ]
    }
   ],
   "source": [
    "!ls alice/"
   ]
  },
  {
   "cell_type": "code",
   "execution_count": 10,
   "metadata": {},
   "outputs": [
    {
     "name": "stdout",
     "output_type": "stream",
     "text": [
      "holmes.jpg  sherlock.txt\n"
     ]
    }
   ],
   "source": [
    "!ls sherlock/"
   ]
  },
  {
   "cell_type": "code",
   "execution_count": 11,
   "metadata": {},
   "outputs": [
    {
     "name": "stdout",
     "output_type": "stream",
     "text": [
      "total 8\n",
      "-rw-rw-r--. 1 hadoop hadoop 7805 Apr 24 07:48 3_Basic_File_Management.ipynb\n",
      "drwxrwxr-x. 2 hadoop hadoop   45 Apr 24 07:48 alice\n",
      "-rw-rw-r--. 1 hadoop hadoop    0 Apr 24 07:49 file\n",
      "-rw-rw-r--. 1 hadoop hadoop    0 Apr 24 07:49 just\n",
      "drwxrwxr-x. 2 hadoop hadoop   44 Apr 24 07:48 sherlock\n",
      "-rw-rw-r--. 1 hadoop hadoop    0 Apr 24 07:49 some\n",
      "-rw-rw-r--. 1 hadoop hadoop    0 Apr 24 07:49 spaces\n",
      "-rw-rw-r--. 1 hadoop hadoop    0 Apr 24 07:49 with\n"
     ]
    }
   ],
   "source": [
    "!touch just some file with spaces\n",
    "!ls -l"
   ]
  },
  {
   "cell_type": "code",
   "execution_count": 12,
   "metadata": {},
   "outputs": [
    {
     "name": "stdout",
     "output_type": "stream",
     "text": [
      "total 8\n",
      "-rw-rw-r--. 1 hadoop hadoop 7805 Apr 24 07:48 3_Basic_File_Management.ipynb\n",
      "drwxrwxr-x. 2 hadoop hadoop   45 Apr 24 07:48 alice\n",
      "drwxrwxr-x. 2 hadoop hadoop   44 Apr 24 07:48 sherlock\n"
     ]
    }
   ],
   "source": [
    "!rm just some file with spaces\n",
    "!ls -l"
   ]
  },
  {
   "cell_type": "code",
   "execution_count": 13,
   "metadata": {},
   "outputs": [
    {
     "name": "stdout",
     "output_type": "stream",
     "text": [
      "total 8\n",
      "-rw-rw-r--. 1 hadoop hadoop 7805 Apr 24 07:48 3_Basic_File_Management.ipynb\n",
      "drwxrwxr-x. 2 hadoop hadoop   45 Apr 24 07:48 alice\n",
      "-rw-rw-r--. 1 hadoop hadoop    0 Apr 24 07:49 just some file with spaces\n",
      "drwxrwxr-x. 2 hadoop hadoop   44 Apr 24 07:48 sherlock\n"
     ]
    }
   ],
   "source": [
    "!touch 'just some file with spaces'\n",
    "!ls -l"
   ]
  },
  {
   "cell_type": "code",
   "execution_count": 14,
   "metadata": {},
   "outputs": [
    {
     "name": "stdout",
     "output_type": "stream",
     "text": [
      "total 8\n",
      "-rw-rw-r--. 1 hadoop hadoop 7805 Apr 24 07:48 3_Basic_File_Management.ipynb\n",
      "drwxrwxr-x. 2 hadoop hadoop   45 Apr 24 07:48 alice\n",
      "drwxrwxr-x. 2 hadoop hadoop   44 Apr 24 07:48 sherlock\n"
     ]
    }
   ],
   "source": [
    "!rm just\\ some\\ file\\ with\\ spaces\n",
    "!ls -l"
   ]
  },
  {
   "cell_type": "code",
   "execution_count": 15,
   "metadata": {},
   "outputs": [
    {
     "name": "stdout",
     "output_type": "stream",
     "text": [
      ".:\n",
      "3_Basic_File_Management.ipynb  alice  sherlock\n",
      "\n",
      "./alice:\n",
      "alice.txt  wonderland.jpg\n",
      "\n",
      "./sherlock:\n",
      "holmes.jpg  sherlock.txt\n"
     ]
    }
   ],
   "source": [
    "!ls -R"
   ]
  },
  {
   "cell_type": "code",
   "execution_count": 18,
   "metadata": {},
   "outputs": [
    {
     "name": "stdout",
     "output_type": "stream",
     "text": [
      "3_Basic_File_Management.ipynb  alice  alice.txt  sherlock\n"
     ]
    }
   ],
   "source": [
    "!cp alice/alice.txt .\n",
    "!ls"
   ]
  },
  {
   "cell_type": "code",
   "execution_count": 19,
   "metadata": {},
   "outputs": [
    {
     "name": "stdout",
     "output_type": "stream",
     "text": [
      "3_Basic_File_Management.ipynb  alice  alice.txt  book.txt  sherlock\n"
     ]
    }
   ],
   "source": [
    "!cp alice/alice.txt book.txt\n",
    "!ls"
   ]
  },
  {
   "cell_type": "code",
   "execution_count": 20,
   "metadata": {},
   "outputs": [
    {
     "name": "stdout",
     "output_type": "stream",
     "text": [
      "Anaconda3-2018.12-Linux-x86_64.sh\n"
     ]
    }
   ],
   "source": [
    "!ls ../../../Downloads"
   ]
  },
  {
   "cell_type": "code",
   "execution_count": 21,
   "metadata": {},
   "outputs": [
    {
     "name": "stdout",
     "output_type": "stream",
     "text": [
      "Anaconda3-2018.12-Linux-x86_64.sh  book.txt\n"
     ]
    }
   ],
   "source": [
    "!cp alice.txt ../../../Downloads/book.txt\n",
    "!ls ../../../Downloads"
   ]
  },
  {
   "cell_type": "code",
   "execution_count": 22,
   "metadata": {},
   "outputs": [
    {
     "name": "stdout",
     "output_type": "stream",
     "text": [
      "3_Basic_File_Management.ipynb  alice.txt\t\t\t  book.txt\n",
      "alice\t\t\t       Anaconda3-2018.12-Linux-x86_64.sh  sherlock\n"
     ]
    }
   ],
   "source": [
    "!cp ../../../Downloads/Anaconda3-2018.12-Linux-x86_64.sh .\n",
    "!ls"
   ]
  },
  {
   "cell_type": "code",
   "execution_count": 26,
   "metadata": {},
   "outputs": [
    {
     "name": "stdout",
     "output_type": "stream",
     "text": [
      "3_Basic_File_Management.ipynb  alice  alice.txt  book.txt  sherlock\n"
     ]
    }
   ],
   "source": [
    "!rm Anaconda3-2018.12-Linux-x86_64.sh\n",
    "!ls"
   ]
  },
  {
   "cell_type": "code",
   "execution_count": 32,
   "metadata": {},
   "outputs": [
    {
     "name": "stdout",
     "output_type": "stream",
     "text": [
      "3_Basic_File_Management.ipynb  alice  alice.txt  book.txt  cp_demo  sherlock\n"
     ]
    }
   ],
   "source": [
    "!mkdir cp_demo\n",
    "!cp -R alice/ sherlock/ 3_Basic_File_Management.ipynb cp_demo\n",
    "!ls"
   ]
  },
  {
   "cell_type": "code",
   "execution_count": 33,
   "metadata": {},
   "outputs": [
    {
     "name": "stdout",
     "output_type": "stream",
     "text": [
      "cp_demo/:\n",
      "3_Basic_File_Management.ipynb  alice  sherlock\n",
      "\n",
      "cp_demo/alice:\n",
      "alice.txt  wonderland.jpg\n",
      "\n",
      "cp_demo/sherlock:\n",
      "holmes.jpg  sherlock.txt\n"
     ]
    }
   ],
   "source": [
    "!ls -R cp_demo/"
   ]
  },
  {
   "cell_type": "code",
   "execution_count": 34,
   "metadata": {},
   "outputs": [
    {
     "name": "stdout",
     "output_type": "stream",
     "text": [
      "new_dir:\n",
      "cp_demo\n",
      "\n",
      "new_dir/cp_demo:\n",
      "3_Basic_File_Management.ipynb  alice  sherlock\n",
      "\n",
      "new_dir/cp_demo/alice:\n",
      "alice.txt  wonderland.jpg\n",
      "\n",
      "new_dir/cp_demo/sherlock:\n",
      "holmes.jpg  sherlock.txt\n"
     ]
    }
   ],
   "source": [
    "!mkdir new_dir\n",
    "!cp -R cp_demo/ new_dir\n",
    "!ls -R new_dir"
   ]
  },
  {
   "cell_type": "code",
   "execution_count": 35,
   "metadata": {},
   "outputs": [
    {
     "name": "stdout",
     "output_type": "stream",
     "text": [
      "rm: cannot remove ‘new_dir/’: Is a directory\n"
     ]
    }
   ],
   "source": [
    "!rm new_dir/"
   ]
  },
  {
   "cell_type": "code",
   "execution_count": 36,
   "metadata": {},
   "outputs": [
    {
     "name": "stdout",
     "output_type": "stream",
     "text": [
      "rmdir: failed to remove ‘new_dir/’: Directory not empty\n"
     ]
    }
   ],
   "source": [
    "!rmdir new_dir/"
   ]
  },
  {
   "cell_type": "code",
   "execution_count": 37,
   "metadata": {},
   "outputs": [
    {
     "name": "stdout",
     "output_type": "stream",
     "text": [
      "3_Basic_File_Management.ipynb  alice  alice.txt  book.txt  cp_demo  sherlock\n"
     ]
    }
   ],
   "source": [
    "!rm -r new_dir/\n",
    "!ls"
   ]
  },
  {
   "cell_type": "code",
   "execution_count": null,
   "metadata": {},
   "outputs": [],
   "source": []
  }
 ],
 "metadata": {
  "kernelspec": {
   "display_name": "Python (python_tarena)",
   "language": "python",
   "name": "python_tarena"
  },
  "language_info": {
   "codemirror_mode": {
    "name": "ipython",
    "version": 3
   },
   "file_extension": ".py",
   "mimetype": "text/x-python",
   "name": "python",
   "nbconvert_exporter": "python",
   "pygments_lexer": "ipython3",
   "version": "3.5.6"
  }
 },
 "nbformat": 4,
 "nbformat_minor": 2
}
