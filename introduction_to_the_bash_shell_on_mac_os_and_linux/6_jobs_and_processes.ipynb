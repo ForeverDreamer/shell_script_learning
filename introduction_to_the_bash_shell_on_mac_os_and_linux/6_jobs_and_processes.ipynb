{
 "cells": [
  {
   "cell_type": "markdown",
   "metadata": {},
   "source": [
    "# 2 Background jobs"
   ]
  },
  {
   "cell_type": "code",
   "execution_count": 1,
   "metadata": {},
   "outputs": [],
   "source": [
    "# cp /Volumes/data-2T/Movie.avi .  # 从网络拷贝文件到当前目录，大文件拷贝耗时，终端不能进行操作\n",
    "# Ctrl+Z  # 进程停止运行\n",
    "# fg  # 进程继续运行\n",
    "# Ctrl+Z  # 进程停止运行\n",
    "# bg  # 进程后台运行\n",
    "\n",
    "# 。/delayed_ls > output_file &  # 直接在后台运行进程，当前终端可以操作\n",
    "# rm -i oscars.tsv &  # 后台运行的进程不能接收终端输入，即无法和用户交互，所以只应该把不需要和用户交互的进程设置为后台运行"
   ]
  },
  {
   "cell_type": "markdown",
   "metadata": {},
   "source": [
    "# 4 Killing jobs and Processes"
   ]
  },
  {
   "cell_type": "code",
   "execution_count": 2,
   "metadata": {},
   "outputs": [],
   "source": [
    "# 启动火狐浏览器，浏览器可以正常操作，然后Ctrl+Z暂停，此时浏览器界面还在但是无法交互操作\n",
    "# [hadoop@tedu ~]$ firefox\n",
    "# ^Z\n",
    "# [1]+  Stopped                 firefox\n",
    "\n",
    "# 后台运行gedit编辑器，不影响终端继续操作，编辑器也可以同时使用\n",
    "# [hadoop@tedu ~]$ gedit &\n",
    "# [2] 14799\n",
    "\n",
    "# %1表示job id，用bg命令让firefox在后台继续运行，此时浏览器又可以正常交互使用了，且终端也可以同时操作\n",
    "# [hadoop@tedu ~]$ bg %1\n",
    "# [1]+ firefox &\n",
    "\n",
    "# 查看在当前终端启动运行的任务\n",
    "# [hadoop@tedu ~]$ jobs\n",
    "# [1]-  Running                 firefox &\n",
    "# [2]+  Running                 gedit &\n",
    "\n",
    "# 让gedit切换到前台运行，然后Ctrl+Z暂停，再次查看任务\n",
    "# [hadoop@tedu ~]$ fg %2\n",
    "# gedit\n",
    "# ^Z\n",
    "# [2]+  Stopped                 gedit\n",
    "# [hadoop@tedu ~]$ jobs\n",
    "# [1]-  Running                 firefox &\n",
    "# [2]+  Stopped                 gedit\n",
    "# [hadoop@tedu ~]$ \n",
    "\n",
    "# 结束进程\n",
    "# [hadoop@tedu ~]$ kill %1\n",
    "# [hadoop@tedu ~]$ kill %2\n",
    "# [1]-  Terminated              firefox\n",
    "# [2]+  Terminated              gedit\n",
    "# [hadoop@tedu ~]$ jobs\n",
    "# [hadoop@tedu ~]$ \n",
    "\n",
    "# 在图形化界面点击启动计算器\n",
    "# 查找计算器进程id\n",
    "# [hadoop@tedu ~]$ ps -e | grep calc\n",
    "#  15193 ?        00:00:00 gnome-calculato\n",
    "# 通过kill 进程id结束进程\n",
    "# [hadoop@tedu ~]$ kill 15193\n",
    "# 通过pkill匹配结束所有包括'calc'的进程，慎用\n",
    "# [hadoop@tedu ~]$ pkill calc\n",
    "# [hadoop@tedu ~]$ \n",
    "\n"
   ]
  },
  {
   "cell_type": "markdown",
   "metadata": {},
   "source": [
    "# 5 Inspecting processes"
   ]
  },
  {
   "cell_type": "code",
   "execution_count": 3,
   "metadata": {},
   "outputs": [],
   "source": [
    "# ps  # 当前终端运行的进程\n",
    "# ps -e  # 显示主机所有进程\n",
    "# ps -ef  # 包含进程所有者信息\n",
    "# top  # 此时键入u: 可以按用户过滤进程，k: 可以通过进程id结束进程"
   ]
  },
  {
   "cell_type": "code",
   "execution_count": null,
   "metadata": {},
   "outputs": [],
   "source": []
  }
 ],
 "metadata": {
  "kernelspec": {
   "display_name": "Python (python_tarena)",
   "language": "python",
   "name": "python_tarena"
  },
  "language_info": {
   "codemirror_mode": {
    "name": "ipython",
    "version": 3
   },
   "file_extension": ".py",
   "mimetype": "text/x-python",
   "name": "python",
   "nbconvert_exporter": "python",
   "pygments_lexer": "ipython3",
   "version": "3.5.6"
  }
 },
 "nbformat": 4,
 "nbformat_minor": 2
}
