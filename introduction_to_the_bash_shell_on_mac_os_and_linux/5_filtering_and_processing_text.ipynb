{
 "cells": [
  {
   "cell_type": "markdown",
   "metadata": {},
   "source": [
    "# 3 Sorting with sort"
   ]
  },
  {
   "cell_type": "code",
   "execution_count": 1,
   "metadata": {},
   "outputs": [
    {
     "name": "stdout",
     "output_type": "stream",
     "text": [
      "5_filtering_and_processing_text.ipynb  math_grades\t   physics_grades\n",
      "math_attendance\t\t\t       physics_attendance\n"
     ]
    }
   ],
   "source": [
    "!ls"
   ]
  },
  {
   "cell_type": "code",
   "execution_count": 2,
   "metadata": {},
   "outputs": [
    {
     "name": "stdout",
     "output_type": "stream",
     "text": [
      "clark 50\n",
      "bruce 61\n",
      "steve 43\n",
      "jonathan 100\n",
      "logan 19\n",
      "peter 78\n",
      "tony 92\n"
     ]
    }
   ],
   "source": [
    "!cat math_grades"
   ]
  },
  {
   "cell_type": "code",
   "execution_count": 3,
   "metadata": {},
   "outputs": [
    {
     "name": "stdout",
     "output_type": "stream",
     "text": [
      "bruce 61\n",
      "clark 50\n",
      "jonathan 100\n",
      "logan 19\n",
      "peter 78\n",
      "steve 43\n",
      "tony 92\n"
     ]
    }
   ],
   "source": [
    "!sort math_grades"
   ]
  },
  {
   "cell_type": "code",
   "execution_count": 4,
   "metadata": {},
   "outputs": [
    {
     "name": "stdout",
     "output_type": "stream",
     "text": [
      "jonathan 100\n",
      "logan 19\n",
      "steve 43\n",
      "clark 50\n",
      "bruce 61\n",
      "peter 78\n",
      "tony 92\n"
     ]
    }
   ],
   "source": [
    "!sort -k2 math_grades  # -k2: 第二列(key),字符串ascii码"
   ]
  },
  {
   "cell_type": "code",
   "execution_count": 5,
   "metadata": {},
   "outputs": [
    {
     "name": "stdout",
     "output_type": "stream",
     "text": [
      "logan 19\n",
      "steve 43\n",
      "clark 50\n",
      "bruce 61\n",
      "peter 78\n",
      "tony 92\n",
      "jonathan 100\n"
     ]
    }
   ],
   "source": [
    "!sort -nk2 math_grades  # -n: 按数字解析排序"
   ]
  },
  {
   "cell_type": "code",
   "execution_count": 6,
   "metadata": {},
   "outputs": [
    {
     "name": "stdout",
     "output_type": "stream",
     "text": [
      "jonathan 100\n",
      "tony 92\n",
      "peter 78\n",
      "bruce 61\n",
      "clark 50\n",
      "steve 43\n",
      "logan 19\n"
     ]
    }
   ],
   "source": [
    "!sort -rnk2 math_grades  # -r: 颠倒排序"
   ]
  },
  {
   "cell_type": "code",
   "execution_count": 7,
   "metadata": {},
   "outputs": [
    {
     "name": "stdout",
     "output_type": "stream",
     "text": [
      "lecture 1\n",
      "clark\n",
      "peter\n",
      "tony\n",
      "bruce\n",
      "steve\n",
      "jonathan\n",
      "logan\n",
      "\n",
      "lecture 2\n",
      "clark\n",
      "peter\n",
      "steve\n",
      "jonathan\n",
      "logan\n",
      "\n",
      "lecture 3\n",
      "clark\n",
      "peter\n",
      "tony\n",
      "\n",
      "lecture 4\n",
      "clark\n",
      "peter\n",
      "bruce\n",
      "steve\n",
      "logan\n",
      "\n",
      "lecture 5\n",
      "clark\n",
      "peter\n",
      "tony\n",
      "bruce\n",
      "steve\n",
      "jonathan\n",
      "\n"
     ]
    }
   ],
   "source": [
    "!cat math_attendance"
   ]
  },
  {
   "cell_type": "code",
   "execution_count": 8,
   "metadata": {},
   "outputs": [
    {
     "name": "stdout",
     "output_type": "stream",
     "text": [
      "\n",
      "\n",
      "\n",
      "\n",
      "\n",
      "bruce\n",
      "bruce\n",
      "bruce\n",
      "clark\n",
      "clark\n",
      "clark\n",
      "clark\n",
      "clark\n",
      "jonathan\n",
      "jonathan\n",
      "jonathan\n",
      "lecture 1\n",
      "lecture 2\n",
      "lecture 3\n",
      "lecture 4\n",
      "lecture 5\n",
      "logan\n",
      "logan\n",
      "logan\n",
      "peter\n",
      "peter\n",
      "peter\n",
      "peter\n",
      "peter\n",
      "steve\n",
      "steve\n",
      "steve\n",
      "steve\n",
      "tony\n",
      "tony\n",
      "tony\n"
     ]
    }
   ],
   "source": [
    "!sort math_attendance  # 空行也读取"
   ]
  },
  {
   "cell_type": "code",
   "execution_count": 9,
   "metadata": {},
   "outputs": [
    {
     "name": "stdout",
     "output_type": "stream",
     "text": [
      "\n",
      "bruce\n",
      "clark\n",
      "jonathan\n",
      "lecture 1\n",
      "lecture 2\n",
      "lecture 3\n",
      "lecture 4\n",
      "lecture 5\n",
      "logan\n",
      "peter\n",
      "steve\n",
      "tony\n"
     ]
    }
   ],
   "source": [
    "!sort math_attendance | uniq"
   ]
  },
  {
   "cell_type": "code",
   "execution_count": 10,
   "metadata": {},
   "outputs": [
    {
     "name": "stdout",
     "output_type": "stream",
     "text": [
      "      5 \n",
      "      3 bruce\n",
      "      5 clark\n",
      "      3 jonathan\n",
      "      1 lecture 1\n",
      "      1 lecture 2\n",
      "      1 lecture 3\n",
      "      1 lecture 4\n",
      "      1 lecture 5\n",
      "      3 logan\n",
      "      5 peter\n",
      "      4 steve\n",
      "      3 tony\n"
     ]
    }
   ],
   "source": [
    "!sort math_attendance | uniq -c  # 空行出现5次"
   ]
  },
  {
   "cell_type": "code",
   "execution_count": 11,
   "metadata": {},
   "outputs": [
    {
     "name": "stdout",
     "output_type": "stream",
     "text": [
      "      5 peter\n",
      "      5 clark\n",
      "      5 \n",
      "      4 steve\n",
      "      3 tony\n",
      "      3 logan\n",
      "      3 jonathan\n",
      "      3 bruce\n",
      "      1 lecture 5\n",
      "      1 lecture 4\n",
      "      1 lecture 3\n",
      "      1 lecture 2\n",
      "      1 lecture 1\n"
     ]
    }
   ],
   "source": [
    "!sort math_attendance |uniq -c |sort -nr"
   ]
  },
  {
   "cell_type": "markdown",
   "metadata": {},
   "source": [
    "# 4 Head and Tail"
   ]
  },
  {
   "cell_type": "code",
   "execution_count": 12,
   "metadata": {},
   "outputs": [
    {
     "name": "stdout",
     "output_type": "stream",
     "text": [
      "total 5772\n",
      "-rw-------. 1 root   root   1690900 Apr  7 09:30 messages-20190407\n",
      "-rw-------. 1 root   root   1456895 Apr  1 10:30 messages-20190401\n",
      "-rw-------. 1 root   root    569215 Apr 15 08:30 messages-20190415\n",
      "-rw-------. 1 root   root    491185 Apr 24 16:20 messages\n",
      "-rw-r--r--. 1 root   root    292292 Apr 24 16:13 lastlog\n",
      "-rw-r--r--. 1 mysql  mysql   153713 Apr 24 16:09 mysqld.log\n",
      "-rw-------. 1 root   root    145582 Apr 21 08:10 messages-20190421\n",
      "-rw-r--r--. 1 root   root    126135 Apr 24 16:09 dmesg\n",
      "-rw-r--r--. 1 root   root    126069 Apr 21 12:21 dmesg.old\n",
      "-rw-rw-r--. 1 root   utmp    113280 Apr 24 16:13 wtmp\n",
      "-rw-------. 1 root   root    111683 Apr  7 09:38 boot.log-20190407\n",
      "-rw-r--r--. 1 root   root     75021 Apr 24 16:09 vmware-vmsvc.log\n",
      "-rw-------. 1 root   root     48076 Apr  7 09:38 cron-20190407\n",
      "-rw-r--r--. 1 root   root     47544 Apr 24 16:09 Xorg.0.log.old\n",
      "-rw-------. 1 root   root     46948 Apr 21 08:13 cron-20190421\n",
      "-rw-------. 1 root   root     46346 Apr 15 08:35 cron-20190415\n",
      "-rw-------. 1 root   root     45731 Apr  7 08:53 secure-20190407\n",
      "-rw-r--r--. 1 root   root     44869 Apr 24 16:11 Xorg.0.log\n",
      "-rw-------. 1 root   root     40892 Apr  1 10:33 cron-20190401\n",
      "-rw-r--r--. 1 root   root     33743 Apr  6 16:37 vmware-install.log\n",
      "-rw-r--r--. 1 root   root     33505 Apr 24 16:09 redis_6379.log\n",
      "-rw-r--r--. 1 root   root     29026 Apr 24 16:09 vmware-vgauthsvc.log.0\n",
      "-rw-------. 1 root   root     28743 Apr 24 16:20 cron\n",
      "-rw-------. 1 root   root     28722 Mar 26 10:07 boot.log-20190326\n",
      "-rw-------. 1 root   root     18556 Apr 14 19:33 yum.log\n",
      "-rw-------. 1 root   root     14652 Mar 29 17:55 secure-20190401\n",
      "-rw-------. 1 root   root     14610 Apr 15 08:35 boot.log-20190415\n",
      "-rw-------. 1 root   root     14455 Apr 11 10:37 boot.log-20190411\n",
      "-rw-------. 1 root   root     14394 Apr 22 09:12 boot.log-20190422\n",
      "-rw-------. 1 root   root     14386 Mar 28 10:19 boot.log-20190328\n",
      "-rw-------. 2 root   root     14292 Apr 24 16:09 boot.log\n",
      "-rw-------. 1 root   root     13954 Mar 25 10:12 boot.log-20190325\n",
      "-rw-------. 1 root   root     13002 Apr 14 19:41 secure-20190415\n",
      "-rw-------. 1 root   root      6782 Apr 24 16:13 secure\n",
      "-rw-r--r--. 1 root   root      5283 Apr 14 19:23 vmware-network.6.log\n",
      "-rw-r--r--. 1 root   root      5275 Apr  6 20:13 vmware-network.9.log\n",
      "-rw-------. 1 root   root      4899 Apr 20 21:43 secure-20190421\n",
      "-rw-r--r--. 1 root   root      4132 Apr 13 12:49 vmware-network.7.log\n",
      "drwxr-xr-x. 2 root   root      4096 Apr 23 05:50 sa\n",
      "-rw-------. 1 root   root      2591 Apr  6 15:15 grubby\n",
      "-rw-------. 1 root   root      1134 Apr  6 19:43 maillog-20190407\n",
      "-rw-------. 1 root   root       752 Mar 27 17:50 maillog-20190401\n",
      "-rw-r--r--. 1 root   root       700 Apr 24 16:09 vmware-network.1.log\n",
      "-rw-r--r--. 1 root   root       700 Apr 21 12:20 vmware-network.3.log\n",
      "-rw-r--r--. 1 root   root       700 Apr 14 19:40 vmware-network.5.log\n",
      "-rw-r--r--. 1 root   root       678 Apr 21 12:21 vmware-network.2.log\n",
      "-rw-r--r--. 1 root   root       678 Apr 14 19:40 vmware-network.4.log\n",
      "-rw-r--r--. 1 root   root       678 Apr 11 09:42 vmware-network.8.log\n",
      "-rw-r--r--. 1 root   root       678 Apr 24 16:09 vmware-network.log\n",
      "-rw-r--r--. 1 root   root       640 Apr 24 16:09 wpa_supplicant.log\n",
      "-rw-------. 1 root   utmp       384 Apr  6 15:23 btmp\n",
      "-rw-------. 1 root   root       376 Apr 24 16:09 maillog\n",
      "-rw-------. 1 root   root       376 Apr 14 19:40 maillog-20190415\n",
      "drwxr-xr-x. 2 root   root       204 Mar  6 17:47 anaconda\n",
      "drwx--x--x. 2 root   gdm        202 Apr 24 16:09 gdm\n",
      "-rw-r--r--. 1 root   root       193 Mar  6 17:40 grubby_prune_debug\n",
      "drwxr-xr-x. 2 lp     sys        165 Apr 21 08:13 cups\n",
      "drwxr-x---. 2 sssd   sssd       142 Mar 19 19:48 sssd\n",
      "drwx------. 4 root   root        62 Apr  6 19:49 samba\n",
      "drwxr-xr-x. 2 root   root        26 Mar  6 17:47 vmware\n",
      "drwx------. 2 root   root        23 Mar  6 17:47 audit\n",
      "drwxr-xr-x. 2 root   root        23 Mar 14 18:32 tuned\n",
      "drwxr-xr-x. 3 root   root        21 Mar  6 17:41 swtpm\n",
      "drwx------. 3 root   root        18 Mar 14 18:25 libvirt\n",
      "drwxr-xr-x. 3 root   root        18 Mar  6 17:41 pluto\n",
      "drwxr-xr-x. 2 chrony chrony       6 Apr 13  2018 chrony\n",
      "drwxr-xr-x. 2 root   root         6 Nov  5 00:56 glusterfs\n",
      "drwxr-xr-x. 2 ntp    ntp          6 Apr 13  2018 ntpstats\n",
      "drwx------. 2 root   root         6 Jun 10  2014 ppp\n",
      "drwxr-xr-x. 2 root   root         6 Oct 31 05:29 qemu-ga\n",
      "drwxr-xr-x. 2 root   root         6 Mar  6 17:47 rhsm\n",
      "drwx------. 2 root   root         6 Jun 10  2014 speech-dispatcher\n",
      "-rw-------. 1 root   utmp         0 Mar  6 17:40 btmp-20190401\n",
      "-rw-r--r--. 1 root   root         0 Mar  6 17:47 firewalld\n",
      "-rw-------. 1 root   root         0 Apr 15 08:35 maillog-20190421\n",
      "-rw-------. 1 root   root         0 Apr 21 08:13 spooler\n",
      "-rw-------. 1 root   root         0 Mar 24 10:45 spooler-20190401\n",
      "-rw-------. 1 root   root         0 Apr  1 10:33 spooler-20190407\n",
      "-rw-------. 1 root   root         0 Apr  7 09:38 spooler-20190415\n",
      "-rw-------. 1 root   root         0 Apr 15 08:35 spooler-20190421\n",
      "-rw-------. 1 root   root         0 Mar  6 17:40 tallylog\n"
     ]
    }
   ],
   "source": [
    "!ls -lS /var/log/  # 按照文件size从大到小排序"
   ]
  },
  {
   "cell_type": "code",
   "execution_count": 13,
   "metadata": {},
   "outputs": [
    {
     "name": "stdout",
     "output_type": "stream",
     "text": [
      "total 5772\n",
      "-rw-------. 1 root   root   1690900 Apr  7 09:30 messages-20190407\n",
      "-rw-------. 1 root   root   1456895 Apr  1 10:30 messages-20190401\n",
      "-rw-------. 1 root   root    569215 Apr 15 08:30 messages-20190415\n",
      "-rw-------. 1 root   root    491185 Apr 24 16:20 messages\n",
      "-rw-r--r--. 1 root   root    292292 Apr 24 16:13 lastlog\n",
      "-rw-r--r--. 1 mysql  mysql   153713 Apr 24 16:09 mysqld.log\n",
      "-rw-------. 1 root   root    145582 Apr 21 08:10 messages-20190421\n",
      "-rw-r--r--. 1 root   root    126135 Apr 24 16:09 dmesg\n",
      "-rw-r--r--. 1 root   root    126069 Apr 21 12:21 dmesg.old\n"
     ]
    }
   ],
   "source": [
    "!ls -lS /var/log/ |head"
   ]
  },
  {
   "cell_type": "code",
   "execution_count": 14,
   "metadata": {},
   "outputs": [
    {
     "name": "stdout",
     "output_type": "stream",
     "text": [
      "total 5772\n"
     ]
    }
   ],
   "source": [
    "!ls -lS /var/log/ |head -n 1  # 只展示第一行"
   ]
  },
  {
   "cell_type": "code",
   "execution_count": 21,
   "metadata": {},
   "outputs": [
    {
     "name": "stdout",
     "output_type": "stream",
     "text": [
      "total 5772\n",
      "-rw-------. 1 root   root   1690900 Apr  7 09:30 messages-20190407\n"
     ]
    }
   ],
   "source": [
    "!ls -lS /var/log/ |head -n 2"
   ]
  },
  {
   "cell_type": "code",
   "execution_count": 16,
   "metadata": {},
   "outputs": [
    {
     "name": "stdout",
     "output_type": "stream",
     "text": [
      "-rw-------. 1 root   root   1690900 Apr  7 09:30 messages-20190407\n"
     ]
    }
   ],
   "source": [
    "!ls -lrS /var/log/ |tail -n 1"
   ]
  },
  {
   "cell_type": "code",
   "execution_count": 24,
   "metadata": {},
   "outputs": [
    {
     "name": "stdout",
     "output_type": "stream",
     "text": [
      "total 5772\n"
     ]
    }
   ],
   "source": [
    "!ls -lrS /var/log/ |head -n 1"
   ]
  },
  {
   "cell_type": "code",
   "execution_count": 18,
   "metadata": {},
   "outputs": [
    {
     "name": "stdout",
     "output_type": "stream",
     "text": [
      "-rw-------. 1 root   root   1690900 Apr  7 09:30 messages-20190407\n"
     ]
    }
   ],
   "source": [
    "!ls -lS /var/log/ |head -n 2 |tail -n 1"
   ]
  },
  {
   "cell_type": "code",
   "execution_count": 27,
   "metadata": {},
   "outputs": [
    {
     "name": "stdout",
     "output_type": "stream",
     "text": [
      "-rw-------. 1 root   root   1690900 Apr  7 09:30 messages-20190407\n"
     ]
    }
   ],
   "source": [
    "!ls -lrS /var/log/ |tail -n 1"
   ]
  },
  {
   "cell_type": "code",
   "execution_count": 29,
   "metadata": {},
   "outputs": [
    {
     "name": "stdout",
     "output_type": "stream",
     "text": [
      "-rw-------. 1 root   root    491399 Apr 24 16:24 messages\n"
     ]
    }
   ],
   "source": [
    "!ls -lrt /var/log/ |tail -n 1  # -t: 按修改时间排序"
   ]
  },
  {
   "cell_type": "code",
   "execution_count": 31,
   "metadata": {},
   "outputs": [],
   "source": [
    "# tail -f  # follows newly appended data"
   ]
  },
  {
   "cell_type": "markdown",
   "metadata": {},
   "source": [
    "# 5 Counting with wc"
   ]
  },
  {
   "cell_type": "code",
   "execution_count": 32,
   "metadata": {},
   "outputs": [
    {
     "name": "stdout",
     "output_type": "stream",
     "text": [
      " 36  36 217 math_attendance\n"
     ]
    }
   ],
   "source": [
    "!wc math_attendance  # num of lines, num of words, num of biyes"
   ]
  },
  {
   "cell_type": "code",
   "execution_count": 33,
   "metadata": {},
   "outputs": [
    {
     "name": "stdout",
     "output_type": "stream",
     "text": [
      "36 math_attendance\n"
     ]
    }
   ],
   "source": [
    "!wc -l math_attendance  # just num of lines"
   ]
  },
  {
   "cell_type": "code",
   "execution_count": 34,
   "metadata": {},
   "outputs": [
    {
     "name": "stdout",
     "output_type": "stream",
     "text": [
      "5\n"
     ]
    }
   ],
   "source": [
    "ls |wc -l  # 当前目录下的文件数量"
   ]
  },
  {
   "cell_type": "code",
   "execution_count": 36,
   "metadata": {},
   "outputs": [
    {
     "name": "stdout",
     "output_type": "stream",
     "text": [
      "8\n"
     ]
    }
   ],
   "source": [
    "ls -a |wc -l  # 当前目录下的文件数量，包括隐藏文件和'.', '..'"
   ]
  },
  {
   "cell_type": "markdown",
   "metadata": {},
   "source": [
    "# 6 Searching for Text with grep"
   ]
  },
  {
   "cell_type": "code",
   "execution_count": 37,
   "metadata": {},
   "outputs": [
    {
     "name": "stdout",
     "output_type": "stream",
     "text": [
      "The Lord of the Rings: The Two Towers\t2002\t2\t6\t\t\n",
      "The Lord of the Rings: The Fellowship of the Ring\t2001\t4\t13\t\t\n",
      "The Lord of the Rings: The Return of the King\t2003\t11\t11\t\t\n"
     ]
    }
   ],
   "source": [
    "!grep Rings oscars.tsv  # 匹配包含'Rings'的行"
   ]
  },
  {
   "cell_type": "code",
   "execution_count": 38,
   "metadata": {},
   "outputs": [
    {
     "name": "stdout",
     "output_type": "stream",
     "text": [
      "math_grades:bruce 61\n",
      "physics_grades:bruce 99\n"
     ]
    }
   ],
   "source": [
    "!grep bruce *grades"
   ]
  },
  {
   "cell_type": "code",
   "execution_count": 39,
   "metadata": {},
   "outputs": [
    {
     "name": "stdout",
     "output_type": "stream",
     "text": [
      "math_grades:steve 43\n"
     ]
    }
   ],
   "source": [
    "!grep steve *grades"
   ]
  },
  {
   "cell_type": "code",
   "execution_count": 42,
   "metadata": {},
   "outputs": [
    {
     "name": "stdout",
     "output_type": "stream",
     "text": [
      "clark 55\n",
      "peter 70\n",
      "tony 99\n",
      "bruce 99\n",
      "Steve 33\n",
      "jonathan 100\n",
      "logan 45\n"
     ]
    }
   ],
   "source": [
    "!cat physics_grades"
   ]
  },
  {
   "cell_type": "code",
   "execution_count": 43,
   "metadata": {},
   "outputs": [
    {
     "name": "stdout",
     "output_type": "stream",
     "text": [
      "math_grades:steve 43\n",
      "physics_grades:Steve 33\n"
     ]
    }
   ],
   "source": [
    "!grep -i steve *grades  # -i: 不区分大小写"
   ]
  },
  {
   "cell_type": "code",
   "execution_count": 44,
   "metadata": {},
   "outputs": [
    {
     "name": "stdout",
     "output_type": "stream",
     "text": [
      "\n",
      "bruce\n",
      "clark\n",
      "jonathan\n",
      "lecture 1\n",
      "lecture 2\n",
      "lecture 3\n",
      "lecture 4\n",
      "lecture 5\n",
      "logan\n",
      "peter\n",
      "steve\n",
      "tony\n"
     ]
    }
   ],
   "source": [
    "!sort math_attendance |uniq"
   ]
  },
  {
   "cell_type": "code",
   "execution_count": 50,
   "metadata": {},
   "outputs": [
    {
     "name": "stdout",
     "output_type": "stream",
     "text": [
      "      5 \n",
      "      3 bruce\n",
      "      5 clark\n",
      "      3 jonathan\n",
      "      3 logan\n",
      "      5 peter\n",
      "      4 steve\n",
      "      3 tony\n"
     ]
    }
   ],
   "source": [
    "!grep -v lecture math_attendance |sort |uniq -c  # -v: 过滤剔除匹配行"
   ]
  },
  {
   "cell_type": "code",
   "execution_count": 51,
   "metadata": {},
   "outputs": [
    {
     "name": "stdout",
     "output_type": "stream",
     "text": [
      "      3 bruce\n",
      "      5 clark\n",
      "      3 jonathan\n",
      "      1 lecture 1\n",
      "      1 lecture 2\n",
      "      1 lecture 3\n",
      "      1 lecture 4\n",
      "      1 lecture 5\n",
      "      3 logan\n",
      "      5 peter\n",
      "      4 steve\n",
      "      3 tony\n"
     ]
    }
   ],
   "source": [
    "!grep -v \"^$\" math_attendance |sort |uniq -c  # -v: 过滤空行"
   ]
  },
  {
   "cell_type": "code",
   "execution_count": 52,
   "metadata": {},
   "outputs": [
    {
     "name": "stdout",
     "output_type": "stream",
     "text": [
      "      3 bruce\n",
      "      5 clark\n",
      "      3 jonathan\n",
      "      3 logan\n",
      "      5 peter\n",
      "      4 steve\n",
      "      3 tony\n"
     ]
    }
   ],
   "source": [
    "!grep -Ev \"^$|lecture\" math_attendance |sort |uniq -c  # -E: 支持正则表达式扩展(Extention)，过滤空行或包含'lecture'的行"
   ]
  },
  {
   "cell_type": "code",
   "execution_count": 55,
   "metadata": {},
   "outputs": [
    {
     "name": "stdout",
     "output_type": "stream",
     "text": [
      "total 8\n",
      "drwxrwxr-x. 24 hadoop hadoop 4096 Mar  9 11:34 anaconda3\n",
      "-rw-rw-r--.  1 hadoop hadoop    0 Apr 24 17:16 a.txt\n",
      "-rw-rw-r--.  1 hadoop hadoop    0 Apr 24 17:16 b.txt\n",
      "-rw-rw-r--.  1 hadoop hadoop    0 Apr 24 17:16 c.txt\n",
      "drwxr-xr-x.  2 hadoop hadoop    6 Apr 24 16:04 Desktop\n",
      "drwxr-xr-x.  6 hadoop hadoop  130 Apr 24 07:38 Documents\n",
      "drwxr-xr-x.  2 hadoop hadoop   22 Apr 24 16:04 Downloads\n",
      "-rw-rw-r--.  1 hadoop hadoop    0 Apr 24 17:16 d.txt\n",
      "drwxr-xr-x.  2 hadoop hadoop    6 Mar  6 17:47 Music\n",
      "drwxr-xr-x.  2 hadoop hadoop    6 Mar  6 17:47 Pictures\n",
      "drwxr-xr-x.  2 hadoop hadoop    6 Mar  6 17:47 Public\n",
      "drwxrwxr-x. 14 hadoop hadoop 4096 Apr 10 00:30 PycharmProjects\n",
      "drwxrwxr-x.  2 hadoop hadoop   26 Apr 10 17:22 seaborn-data\n",
      "drwxrwxr-x.  4 hadoop hadoop   49 Apr 24 16:13 Softwares\n",
      "drwxr-xr-x.  2 hadoop hadoop    6 Mar  6 17:47 Templates\n",
      "drwxr-xr-x.  2 hadoop hadoop    6 Mar  6 17:47 Videos\n",
      "drwxr-xr-x.  9 hadoop hadoop  175 Aug 12  2015 vmware-tools-distrib\n"
     ]
    }
   ],
   "source": [
    "!ls -l ~"
   ]
  },
  {
   "cell_type": "code",
   "execution_count": 61,
   "metadata": {},
   "outputs": [
    {
     "name": "stdout",
     "output_type": "stream",
     "text": [
      "drwxrwxr-x. 24 hadoop hadoop 4096 Mar  9 11:34 anaconda3\n",
      "drwxr-xr-x.  2 hadoop hadoop    6 Apr 24 16:04 Desktop\n",
      "drwxr-xr-x.  6 hadoop hadoop  130 Apr 24 07:38 Documents\n",
      "drwxr-xr-x.  2 hadoop hadoop   22 Apr 24 16:04 Downloads\n",
      "drwxr-xr-x.  2 hadoop hadoop    6 Mar  6 17:47 Music\n",
      "drwxr-xr-x.  2 hadoop hadoop    6 Mar  6 17:47 Pictures\n",
      "drwxr-xr-x.  2 hadoop hadoop    6 Mar  6 17:47 Public\n",
      "drwxrwxr-x. 14 hadoop hadoop 4096 Apr 10 00:30 PycharmProjects\n",
      "drwxrwxr-x.  2 hadoop hadoop   26 Apr 10 17:22 seaborn-data\n",
      "drwxrwxr-x.  4 hadoop hadoop   49 Apr 24 16:13 Softwares\n",
      "drwxr-xr-x.  2 hadoop hadoop    6 Mar  6 17:47 Templates\n",
      "drwxr-xr-x.  2 hadoop hadoop    6 Mar  6 17:47 Videos\n",
      "drwxr-xr-x.  9 hadoop hadoop  175 Aug 12  2015 vmware-tools-distrib\n"
     ]
    }
   ],
   "source": [
    "!ls -l ~ |grep \"^d\"  # 只显示以'd'开头的行"
   ]
  },
  {
   "cell_type": "code",
   "execution_count": 63,
   "metadata": {},
   "outputs": [
    {
     "name": "stdout",
     "output_type": "stream",
     "text": [
      "total 8\n",
      "-rw-rw-r--.  1 hadoop hadoop    0 Apr 24 17:16 a.txt\n",
      "-rw-rw-r--.  1 hadoop hadoop    0 Apr 24 17:16 b.txt\n",
      "-rw-rw-r--.  1 hadoop hadoop    0 Apr 24 17:16 c.txt\n",
      "-rw-rw-r--.  1 hadoop hadoop    0 Apr 24 17:16 d.txt\n"
     ]
    }
   ],
   "source": [
    "!ls -l ~ |grep -v \"^d\"  # 不显示以'd'开头的行"
   ]
  },
  {
   "cell_type": "markdown",
   "metadata": {},
   "source": [
    "# 7 Searching for Files with find"
   ]
  },
  {
   "cell_type": "code",
   "execution_count": 64,
   "metadata": {},
   "outputs": [
    {
     "name": "stdout",
     "output_type": "stream",
     "text": [
      ".\n",
      "./.ipynb_checkpoints\n",
      "./.ipynb_checkpoints/5_filtering_and_processing_text-checkpoint.ipynb\n",
      "./math_grades\n",
      "./physics_attendance\n",
      "./math_attendance\n",
      "./physics_grades\n",
      "./5_filtering_and_processing_text.ipynb\n",
      "./oscars.tsv\n"
     ]
    }
   ],
   "source": [
    "!find ."
   ]
  },
  {
   "cell_type": "code",
   "execution_count": 68,
   "metadata": {},
   "outputs": [
    {
     "name": "stdout",
     "output_type": "stream",
     "text": [
      "./math_grades\n",
      "./math_attendance\n"
     ]
    }
   ],
   "source": [
    "!find . -name 'math*'"
   ]
  },
  {
   "cell_type": "code",
   "execution_count": 69,
   "metadata": {},
   "outputs": [],
   "source": [
    "# find . -name '*txt' -exec grep -l curious {} \\;"
   ]
  },
  {
   "cell_type": "markdown",
   "metadata": {},
   "source": [
    "# 8 Replacing characters with tr"
   ]
  },
  {
   "cell_type": "code",
   "execution_count": 70,
   "metadata": {},
   "outputs": [
    {
     "name": "stdout",
     "output_type": "stream",
     "text": [
      "clark 55\n",
      "peter 70\n",
      "tony 99\n",
      "bruce 99\n",
      "Steve 33\n",
      "jonathan 100\n",
      "logan 45\n"
     ]
    }
   ],
   "source": [
    "!cat physics_grades"
   ]
  },
  {
   "cell_type": "code",
   "execution_count": 72,
   "metadata": {},
   "outputs": [
    {
     "name": "stdout",
     "output_type": "stream",
     "text": [
      "tr: extra operand ‘physics_grades’\n",
      "Try 'tr --help' for more information.\n"
     ]
    }
   ],
   "source": [
    "!tr S s physics_grades  # tr通过输入流进行操作，不能直接给文件名参数"
   ]
  },
  {
   "cell_type": "code",
   "execution_count": 75,
   "metadata": {},
   "outputs": [
    {
     "name": "stdout",
     "output_type": "stream",
     "text": [
      "clark 55\n",
      "peter 70\n",
      "tony 99\n",
      "bruce 99\n",
      "steve 33\n",
      "jonathan 100\n",
      "logan 45\n"
     ]
    }
   ],
   "source": [
    "!cat physics_grades | tr S s  # 把输入流中的'S'替换为's', 原文件不变"
   ]
  },
  {
   "cell_type": "code",
   "execution_count": 76,
   "metadata": {},
   "outputs": [
    {
     "name": "stdout",
     "output_type": "stream",
     "text": [
      "clark 55\n",
      "peter 70\n",
      "tony 99\n",
      "bruce 99\n",
      "Steve 33\n",
      "jonathan 100\n",
      "logan 45\n"
     ]
    }
   ],
   "source": [
    "!cat physics_grades"
   ]
  },
  {
   "cell_type": "code",
   "execution_count": 79,
   "metadata": {},
   "outputs": [
    {
     "name": "stdout",
     "output_type": "stream",
     "text": [
      "clark 55\n",
      "peter 70\n",
      "tony 99\n",
      "bruce 99\n",
      "steve 33\n",
      "jonathan 100\n",
      "logan 45\n"
     ]
    }
   ],
   "source": [
    "!tr S s < physics_grades  # 原文件不变"
   ]
  },
  {
   "cell_type": "code",
   "execution_count": 80,
   "metadata": {},
   "outputs": [
    {
     "name": "stdout",
     "output_type": "stream",
     "text": [
      "clark 55\n",
      "peter 70\n",
      "tony 99\n",
      "bruce 99\n",
      "Steve 33\n",
      "jonathan 100\n",
      "logan 45\n"
     ]
    }
   ],
   "source": [
    "!cat physics_grades"
   ]
  },
  {
   "cell_type": "code",
   "execution_count": 81,
   "metadata": {},
   "outputs": [
    {
     "name": "stdout",
     "output_type": "stream",
     "text": [
      "Usage: grep [OPTION]... PATTERN [FILE]...\n",
      "Try 'grep --help' for more information.\n",
      "/usr/bin/sh: oscars.tsv: command not found\n"
     ]
    }
   ],
   "source": [
    "!grep ; oscars.tsv  # ;是命令分隔符"
   ]
  },
  {
   "cell_type": "code",
   "execution_count": 83,
   "metadata": {},
   "outputs": [],
   "source": [
    "!grep \\; oscars.tsv  # 需要\\转义，查找文件中是否有';'字符"
   ]
  },
  {
   "cell_type": "code",
   "execution_count": 86,
   "metadata": {},
   "outputs": [
    {
     "name": "stdout",
     "output_type": "stream",
     "text": [
      "My Fair Lady\t1964\t8\t12\t\t\n",
      "On the Waterfront\t1954\t8\t12\t\t\n",
      "Slumdog Millionaire\t2008\t8\t10\t\t\n",
      "Gigi\t1958\t9\t9\t\t\n",
      "The English Patient\t1996\t9\t12\t\t\n",
      "The Last Emperor\t1987\t9\t9\t\t\n",
      "West Side Story\t1961\t10\t11\t\t\n",
      "Ben-Hur\t1959\t11\t12\t\t\n",
      "The Lord of the Rings: The Return of the King\t2003\t11\t11\t\t\n",
      "Titanic\t1997\t11\t14\t\t\n"
     ]
    }
   ],
   "source": [
    "!tail oscars.tsv"
   ]
  },
  {
   "cell_type": "code",
   "execution_count": 87,
   "metadata": {},
   "outputs": [],
   "source": [
    "!tr \\\\t \\; < oscars.tsv > oscars.csv  # \\t表示tab，需要\\转义，修改文件之后保存"
   ]
  },
  {
   "cell_type": "code",
   "execution_count": 89,
   "metadata": {},
   "outputs": [
    {
     "name": "stdout",
     "output_type": "stream",
     "text": [
      "My Fair Lady;1964;8;12;;\n",
      "On the Waterfront;1954;8;12;;\n",
      "Slumdog Millionaire;2008;8;10;;\n",
      "Gigi;1958;9;9;;\n",
      "The English Patient;1996;9;12;;\n",
      "The Last Emperor;1987;9;9;;\n",
      "West Side Story;1961;10;11;;\n",
      "Ben-Hur;1959;11;12;;\n",
      "The Lord of the Rings: The Return of the King;2003;11;11;;\n",
      "Titanic;1997;11;14;;\n"
     ]
    }
   ],
   "source": [
    "!tail oscars.csv"
   ]
  },
  {
   "cell_type": "code",
   "execution_count": null,
   "metadata": {},
   "outputs": [],
   "source": []
  }
 ],
 "metadata": {
  "kernelspec": {
   "display_name": "Python (python_tarena)",
   "language": "python",
   "name": "python_tarena"
  },
  "language_info": {
   "codemirror_mode": {
    "name": "ipython",
    "version": 3
   },
   "file_extension": ".py",
   "mimetype": "text/x-python",
   "name": "python",
   "nbconvert_exporter": "python",
   "pygments_lexer": "ipython3",
   "version": "3.5.6"
  }
 },
 "nbformat": 4,
 "nbformat_minor": 2
}
