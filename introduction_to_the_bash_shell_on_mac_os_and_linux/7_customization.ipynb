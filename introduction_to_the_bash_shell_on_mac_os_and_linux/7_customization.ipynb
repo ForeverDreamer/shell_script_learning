{
 "cells": [
  {
   "cell_type": "markdown",
   "metadata": {},
   "source": [
    "# 2 Aliases"
   ]
  },
  {
   "cell_type": "code",
   "execution_count": 5,
   "metadata": {},
   "outputs": [],
   "source": [
    "# 查看别名\n",
    "# [hadoop@tedu demo]$ alias\n",
    "# alias egrep='egrep --color=auto'\n",
    "# alias fgrep='fgrep --color=auto'\n",
    "# alias grep='grep --color=auto'\n",
    "# alias l.='ls -d .* --color=auto'\n",
    "# alias ll='ls -l --color=auto'\n",
    "# alias ls='ls --color=auto'\n",
    "# alias vi='vim'\n",
    "# alias which='alias | /usr/bin/which --tty-only --read-alias --show-dot --show-tilde'\n",
    "\n",
    "# 设置别名(只对当前终端有效，重新登录失效)\n",
    "# [hadoop@tedu demo]$ alias gerp=grep\n",
    "# [hadoop@tedu demo]$ alias\n",
    "# alias egrep='egrep --color=auto'\n",
    "# alias fgrep='fgrep --color=auto'\n",
    "# alias gerp='grep'\n",
    "# alias grep='grep --color=auto'\n",
    "# alias l.='ls -d .* --color=auto'\n",
    "# alias ll='ls -l --color=auto'\n",
    "# alias ls='ls --color=auto'\n",
    "# alias vi='vim'\n",
    "# alias which='alias | /usr/bin/which --tty-only --read-alias --show-dot --show-tilde'\n",
    "# [hadoop@tedu demo]$ gerp Superman oscars.tsv \n",
    "# Superman\t1978\t0\t3[18]\t\t\n",
    "\n",
    "# [hadoop@tedu demo]$ alias rm=\"rm -i\"\n",
    "# [hadoop@tedu demo]$ alias\n",
    "# alias egrep='egrep --color=auto'\n",
    "# alias fgrep='fgrep --color=auto'\n",
    "# alias gerp='grep'\n",
    "# alias grep='grep --color=auto'\n",
    "# alias l.='ls -d .* --color=auto'\n",
    "# alias ll='ls -l --color=auto'\n",
    "# alias ls='ls --color=auto'\n",
    "# alias rm='rm -i'\n",
    "# alias vi='vim'\n",
    "# alias which='alias | /usr/bin/which --tty-only --read-alias --show-dot --show-tilde'\n",
    "# [hadoop@tedu demo]$ rm oscars.csv \n",
    "# rm: remove regular file ‘oscars.csv’? y\n",
    "\n",
    "# [hadoop@tedu demo]$ alias todoc=\"cd ~/Documents\"\n",
    "# [hadoop@tedu demo]$ pwd\n",
    "# /home/hadoop/Documents/introduction_to_the_bash_shell_on_mac_os_and_linux/demo\n",
    "# [hadoop@tedu demo]$ todoc\n",
    "# [hadoop@tedu Documents]$ pwd\n",
    "# /home/hadoop/Documents\n",
    "\n",
    "# 忽略别名设置，按原本方式运行\n",
    "# [hadoop@tedu demo]$ \\rm oscars.tsv \n",
    "# [hadoop@tedu demo]$ "
   ]
  },
  {
   "cell_type": "markdown",
   "metadata": {},
   "source": [
    "# 4 Environment Variables"
   ]
  },
  {
   "cell_type": "code",
   "execution_count": 7,
   "metadata": {},
   "outputs": [],
   "source": [
    "# ~/.profile or ~/.bash_profile or ~/.bash_login or ~/.login for login shell, ~/.bashrc is loaded here\n",
    "# ~/.bashrc for non-login shell"
   ]
  },
  {
   "cell_type": "markdown",
   "metadata": {},
   "source": [
    "# 4 Environment Variables"
   ]
  },
  {
   "cell_type": "code",
   "execution_count": 16,
   "metadata": {},
   "outputs": [],
   "source": [
    "# 终端提示行显示设置\\u: user, \\h: host, \\W: pwd, \\t: time\n",
    "# [hadoop@tedu ~]$ echo $PS1\n",
    "# [\\u@\\h \\W]\\$\n",
    "# [hadoop@tedu ~]$ PS1=\"[\\u@\\h \\W] [\\t]\\$\"\n",
    "# [hadoop@tedu ~] [23:55:21]$\n",
    "\n",
    "# 把设置加入~/.bashrc, 启动终端自动设置\n",
    "# [hadoop@tedu ~] [23:55:21]$echo 'PS1=\"[\\u@\\h \\W] [\\t]\\$ \"' >> .bashrc\n",
    "# [hadoop@tedu ~] [00:00:38]$tail -n 1 .bashrc\n",
    "# PS1=\"[\\u@\\h \\W] [\\t]\\$\"\n",
    "\n",
    "# echo $env  # 查看环境变量(在centos7上执行命令没有输出，不知道为什么)"
   ]
  },
  {
   "cell_type": "code",
   "execution_count": 10,
   "metadata": {},
   "outputs": [
    {
     "name": "stdout",
     "output_type": "stream",
     "text": [
      "/home/hadoop/anaconda3/envs/python_tarena/bin:/home/hadoop/anaconda3/envs/python_tarena/bin:/home/hadoop/anaconda3/bin:/usr/local/java/jdk1.8.0_201/bin:/usr/local/git/bin:/usr/local/bin:/usr/local/sbin:/usr/bin:/usr/sbin:/bin:/sbin:/home/hadoop/.local/bin:/home/hadoop/bin\n"
     ]
    }
   ],
   "source": [
    "!echo $PATH"
   ]
  },
  {
   "cell_type": "code",
   "execution_count": 11,
   "metadata": {},
   "outputs": [
    {
     "name": "stdout",
     "output_type": "stream",
     "text": [
      "/home/hadoop/anaconda3/envs/python_tarena/bin:/home/hadoop/anaconda3/envs/python_tarena/bin:/home/hadoop/anaconda3/bin:/usr/local/java/jdk1.8.0_201/bin:/usr/local/git/bin:/usr/local/bin:/usr/local/sbin:/usr/bin:/usr/sbin:/bin:/sbin:/home/hadoop/.local/bin:/home/hadoop/bin:~/bin\n"
     ]
    }
   ],
   "source": [
    "# 把~/bin加入系统搜索路径，里边的程序就可以直接输入名字而不需要显示指定路径执行了\n",
    "!PATH=\"$PATH:~/bin\"\n",
    "!echo $PATH"
   ]
  },
  {
   "cell_type": "code",
   "execution_count": 13,
   "metadata": {},
   "outputs": [],
   "source": [
    "# 设置默认编辑器\n",
    "# [hadoop@tedu ~] [00:15:48]$ EDITOR=gedit\n",
    "# [hadoop@tedu ~] [00:15:56]$ less a.txt \n",
    "# [hadoop@tedu ~] [00:16:04]$ export EDITOR\n",
    "# [hadoop@tedu ~] [00:16:21]$ export EDITOR=vim\n"
   ]
  },
  {
   "cell_type": "markdown",
   "metadata": {},
   "source": [
    "# 5 Setting your default shell"
   ]
  },
  {
   "cell_type": "code",
   "execution_count": 15,
   "metadata": {},
   "outputs": [
    {
     "name": "stdout",
     "output_type": "stream",
     "text": [
      "/bin/bash\n"
     ]
    }
   ],
   "source": [
    "!echo $SHELL"
   ]
  },
  {
   "cell_type": "code",
   "execution_count": null,
   "metadata": {},
   "outputs": [],
   "source": [
    "# 修改默认shell\n",
    "# [hadoop@tedu ~] [00:24:43]$ chsh\n",
    "# Changing shell for hadoop.\n",
    "# New shell [/bin/bash]:"
   ]
  }
 ],
 "metadata": {
  "kernelspec": {
   "display_name": "Python (python_tarena)",
   "language": "python",
   "name": "python_tarena"
  },
  "language_info": {
   "codemirror_mode": {
    "name": "ipython",
    "version": 3
   },
   "file_extension": ".py",
   "mimetype": "text/x-python",
   "name": "python",
   "nbconvert_exporter": "python",
   "pygments_lexer": "ipython3",
   "version": "3.5.6"
  }
 },
 "nbformat": 4,
 "nbformat_minor": 2
}
